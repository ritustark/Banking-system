{
 "cells": [
  {
   "cell_type": "code",
   "execution_count": null,
   "metadata": {},
   "outputs": [],
   "source": []
  },
  {
   "cell_type": "code",
   "execution_count": 20,
   "metadata": {},
   "outputs": [
    {
     "name": "stdout",
     "output_type": "stream",
     "text": [
      "personal details\n",
      " \n",
      "name is user1\n",
      "age is 21\n",
      "gender is Male\n",
      "account balance is updated \n"
      "account balance is updated \n"
      "account balance is \n"
     ]
    }
   ],
   "source": [
    "\n",
    "#parent class\n",
    "class user():\n",
    "    def __init__(self,name,age,gender):\n",
    "        self.name=name\n",
    "        self.age=age\n",
    "        self.gender=gender\n",
    "    \n",
    "    def show_details(self):\n",
    "        print(\"personal details\")\n",
    "        print(\" \")\n",
    "        print(\"name is\",self.name)\n",
    "        print(\"age is\",self.age)\n",
    "        print(\"gender is\",self.gender)\n",
    "    \n",
    "    \n",
    "    #child class\n",
    "\n",
    "class Bank(user):\n",
    "    def __init__(self, name, age, gender):\n",
    "        super().__init__(name, age, gender)\n",
    "        self.balance= 0\n",
    "    \n",
    "    def deposit(self,amount):\n",
    "        self.amount=amount\n",
    "        self.balance=self.balance+self.amount\n",
    "        print(\"account balance is updated\",self.balance)\n",
    "    \n",
    "    def withdraw(self,amount2):\n",
    "        self.amount2 = amount2\n",
    "        if( self.amount2 > self.balance):\n",
    "            print(\"Insuffecient amount\")\n",
    "        else:\n",
    "            self.balance= self.balance - self.amount2\n",
    "            print(\"available balance\",self.balance)\n",
    "    \n",
    "    def viewbalance(self):\n",
    "        print(\"account balance is\",self.balance)\n",
    "\n",
    "    \n",
    "    def createaccount(self,id,password):\n",
    "        self.id=id\n",
    "        self.password =password\n",
    "\n",
    "    def login(self,id2,password2):\n",
    "        self.id2=id2\n",
    "        self.password2 =password2\n",
    "        if(self.id2 == self.id and self.password2 == self.password):\n",
    "            print(\"Log in successfully\")\n",
    "            print(\"welcome Mr\",self.name)\n",
    "            print(\"your recent transactions\")\n",
    "            print(\"Deposits are\",self.amount)\n",
    "            print(\"Withdrawls are\",self.amount2)\n",
    "\n",
    "\n",
    "\n",
    "\n",
    "user1 = Bank(\"user1\",21,\"Male\")\n",
    "user1.show_details()\n",
    "user1.deposit(100)\n",
    "user1.deposit(100)\n",
    "user1.withdraw(50)\n",
    "#user1.viewbalance()\n",
    "\n"
   ]
  }
 ],
 "metadata": {
  "kernelspec": {
   "display_name": "Python 3",
   "language": "python",
   "name": "python3"
  },
  "language_info": {
   "codemirror_mode": {
    "name": "ipython",
    "version": 3
   },
   "file_extension": ".py",
   "mimetype": "text/x-python",
   "name": "python",
   "nbconvert_exporter": "python",
   "pygments_lexer": "ipython3",
   "version": "3.11.3"
  },
  "orig_nbformat": 4
 },
 "nbformat": 4,
 "nbformat_minor": 2
}
